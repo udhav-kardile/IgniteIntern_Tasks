{
 "cells": [
  {
   "cell_type": "code",
   "execution_count": null,
   "metadata": {},
   "outputs": [],
   "source": [
    "import pandas as pd\n",
    "import matplotlib.pyplot as plt\n",
    "\n",
    "# Load datasets\n",
    "movies = pd.read_csv('movies.csv')\n",
    "ratings = pd.read_csv('ratings.csv')\n",
    "\n",
    "# Display basic info\n",
    "print(movies.info())\n",
    "print(ratings.info())\n",
    "\n",
    "# Basic statistics\n",
    "print(ratings.describe())\n",
    "\n",
    "# Distribution of ratings\n",
    "plt.hist(ratings['rating'], bins=5, edgecolor='black')\n",
    "plt.title('Distribution of Ratings')\n",
    "plt.xlabel('Rating')\n",
    "plt.ylabel('Frequency')\n",
    "plt.show()\n",
    "\n",
    "# Most rated movies\n",
    "most_rated = ratings['movieId'].value_counts().head(10)\n",
    "most_rated_movies = movies[movies['movieId'].isin(most_rated.index)]\n",
    "print(most_rated_movies)\n"
   ]
  }
 ],
 "metadata": {
  "kernelspec": {
   "display_name": "movie",
   "language": "python",
   "name": "python3"
  },
  "language_info": {
   "name": "python",
   "version": "3.12.1"
  }
 },
 "nbformat": 4,
 "nbformat_minor": 2
}
