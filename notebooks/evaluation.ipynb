{
 "cells": [
  {
   "cell_type": "code",
   "execution_count": null,
   "metadata": {},
   "outputs": [],
   "source": [
    "from surprise import accuracy\n",
    "from sklearn.metrics import mean_squared_error\n",
    "import numpy as np\n",
    "\n",
    "# Evaluate Collaborative Filtering\n",
    "y_true = [pred.r_ui for pred in predictions]\n",
    "y_pred = [pred.est for pred in predictions]\n",
    "rmse = np.sqrt(mean_squared_error(y_true, y_pred))\n",
    "print(f'Collaborative Filtering RMSE: {rmse}')\n"
   ]
  }
 ],
 "metadata": {
  "language_info": {
   "name": "python"
  }
 },
 "nbformat": 4,
 "nbformat_minor": 2
}
